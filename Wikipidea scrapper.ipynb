{
 "cells": [
  {
   "cell_type": "code",
   "execution_count": 2,
   "metadata": {},
   "outputs": [],
   "source": [
    "import requests\n",
    "from bs4 import BeautifulSoup, NavigableString"
   ]
  },
  {
   "cell_type": "code",
   "execution_count": 3,
   "metadata": {},
   "outputs": [],
   "source": [
    "url = \"https://en.wikipedia.org/wiki/Sherlock_(TV_series)\"\n",
    "r = requests.get(url)\n",
    "content = r.content\n",
    "soup = BeautifulSoup(content, \"html.parser\")"
   ]
  },
  {
   "cell_type": "code",
   "execution_count": 4,
   "metadata": {},
   "outputs": [],
   "source": [
    "def find_content():\n",
    "    id = input(\"Enter title : \")\n",
    "    if id == None:\n",
    "        return\n",
    "    print(\"=====================================================\")\n",
    "    h_id = id.replace(\" \", \"_\")\n",
    "    h_content = soup.find(id = h_id).parent\n",
    "#     h_name = h_content.name\n",
    "    for i,e in enumerate(h_content.next_siblings):\n",
    "        if isinstance(e, NavigableString):\n",
    "            continue\n",
    "        if \"h\" in e.name:\n",
    "            break\n",
    "        print(e.text)\n",
    "\n",
    "def find_titles():\n",
    "    h = input(\"Enter headind size like h2 or h3 : \")\n",
    "    print(\"------------------------------------------------------\")\n",
    "    for i in soup.find_all(h):\n",
    "        if isinstance(i, NavigableString):\n",
    "            continue\n",
    "        print(i.text)\n",
    "def show_everyting():\n",
    "    print(soup.text)\n",
    "\n",
    "def find_links():\n",
    "    anchors = soup.find_all('a')\n",
    "    for link in anchors:\n",
    "        l = link.get('href')\n",
    "        if l == None:\n",
    "            continue\n",
    "        elif \"https://\" in l:\n",
    "            print(l)"
   ]
  },
  {
   "cell_type": "code",
   "execution_count": 8,
   "metadata": {
    "scrolled": true
   },
   "outputs": [
    {
     "name": "stdout",
     "output_type": "stream",
     "text": [
      "Enter title : Cast and characters\n",
      "=====================================================\n",
      "Main article: List of Sherlock characters\n",
      "Moffat and Vertue became interested in casting Cumberbatch as the title character after watching his performance in the 2007 film Atonement. The actor was cast after reading the script for the creative team.[23] The part is modelled as a charismatic secondary psychopath or \"High functioning sociopath\" as Sherlock self describes, unlike Doyle's rendering as a primary psychopath, thereby allowing more opportunity or ambiguity for traits of empathy.[24] \"Cumberbatch\", says The Guardian, \"has a reputation for playing odd, brilliant men very well, and his Holmes is cold, techie, slightly Aspergerish\".[25] Cumberbatch said, \"There's a great charge you get from playing him, because of the volume of words in your head and the speed of thought—you really have to make your connections incredibly fast. He is one step ahead of the audience and of anyone around him with normal intellect. They can't quite fathom where his leaps are taking him.\"[25] Piers Wenger, head of drama at BBC Cymru Wales, described the series' rendering of Sherlock as \"a dynamic superhero in a modern world, an arrogant, genius sleuth driven by a desire to prove himself cleverer than the perpetrator and the police—everyone in fact\".[18] Addressing changing social attitudes and broadcasting regulations, Cumberbatch's Holmes replaced the pipe with multiple nicotine patches.[17] The writers believed that Sherlock should not talk like \"a completely modern person\", says Moffat, but were initially intent that \"he never sounded like he's giving a lecture\". Moffat turned the character \"more Victorian\" in the second series, capitalising more on Cumberbatch's \"beautiful voice\" to make it sound like \"he's giving a lecture\".[26]\n",
      "\n",
      "\n",
      "Benedict Cumberbatch (left) and Martin Freeman (right) during filming of the first series\n",
      "In an interview with The Observer, co-creator Mark Gatiss says that they experienced more difficulty finding the right actor to play Dr. John Watson than they had for the title character.[10] Producer Sue Vertue said, \"Benedict was the only person we actually saw for [the part of] Sherlock... Once Benedict was there it was really just making sure we got the chemistry for John [Watson]—and I think you get it as soon as they come into the room, you can see that they work together\".[27] Several actors auditioned for the part of Watson,[15] and Martin Freeman eventually took the role. Steven Moffat said that Matt Smith was the first to audition unsuccessfully. He was rejected for being too \"barmy\", as the producers required someone \"straighter\" for Watson.[28] Shortly after, Moffat cast Smith as the Eleventh Doctor in Doctor Who.[28]\n",
      "\n",
      "The writers said that Freeman's casting developed the way in which Cumberbatch played Holmes.[15] The theme of friendship appealed to both Gatiss and Moffat.[29] Gatiss asserted the importance of achieving the correct tone for the character. \"Watson is not an idiot, although it's true that Conan Doyle always took the piss out of him,\" said Gatiss. \"But only an idiot would surround himself with idiots.\"[10] Moffat said that Freeman is \"the sort of opposite of Benedict in everything except the amount of talent... Martin finds a sort of poetry in the ordinary man. I love the fastidious realism of everything he does.\"[15] Freeman describes his character as a \"moral compass\" for Sherlock, who does not always consider the morality and ethics of his actions.[23]\n",
      "\n",
      "Rupert Graves was cast as DI Greg Lestrade. The writers referred to the character as \"Inspector Lestrade\" during development until Gatiss realised that in contemporary England the character would have the title \"Detective Inspector\". Moffat and Gatiss pointed out that Lestrade does not appear often in the stories and is quite inconsistently portrayed in them. They decided to go with the version that appeared in \"The Adventure of the Six Napoleons\": a man who is frustrated by Holmes but admires him, and whom Holmes considers as the best person at Scotland Yard.[15] Several candidates took a comedic tack in their auditions, but the creative team preferred the gravitas that Graves brought to the role.[15] His first name is revealed to be Greg in \"The Hounds of Baskerville\".[30]\n",
      "\n",
      "Andrew Scott made his first appearance as Jim Moriarty in \"The Great Game\". Moffat said, \"We knew what we wanted to do with Moriarty from the very beginning. Moriarty is usually a rather dull, rather posh villain so we thought someone who was genuinely properly frightening. Someone who's an absolute psycho.\"[27] Moffat and Gatiss were originally not going to put a confrontation between Moriarty and Holmes into these three episodes, but after seeing Scott's audition[31] they realised that they \"just had to do a confrontation scene. We had to do a version of the scene in 'The Final Problem' in which the two archenemies meet each other.\"[32]\n",
      "\n",
      "The remainder of the regular cast includes Una Stubbs (who has known Cumberbatch since he was four years old, as she had worked with his mother Wanda Ventham)[33] as Mrs. Hudson and co-creator Mark Gatiss as Mycroft Holmes.[34] Vinette Robinson, Jonathan Aris and Louise Brealey play the recurring roles of Sergeant Sally Donovan, Philip Anderson and Molly Hooper, respectively.\n",
      "\n",
      "Amanda Abbington, Freeman's then-real life partner, plays Mary Morstan, Watson's girlfriend and eventual wife. In Series 3, Wanda Ventham and Timothy Carlton, Cumberbatch's actual parents, are introduced as Sherlock and Mycroft's parents.\n",
      "\n",
      "Guest appearances included Phil Davis as Jefferson Hope,[35] Paul Chequer as DI Dimmock,[36] Zoe Telford as Sarah,[36] Gemma Chan as Soo Lin Yao,[36] John Sessions as Kenny Prince,[37] Haydn Gwynne as Miss Wenceslas,[37] Deborah Moore[32] as one of Moriarty's victims and Peter Davison as the voice-over in the planetarium.[32] Series two's \"A Scandal in Belgravia\" featured Lara Pulver as Irene Adler,[38] while \"The Hounds of Baskerville\" featured Russell Tovey as Henry Knight.[39] In the final episode of series 2, the role of Rufus Bruhl was played by Edward Holtom, while Katherine Parkinson played journalist Kitty Riley. The first episode of series 3 featured Derren Brown.\n",
      "\n"
     ]
    }
   ],
   "source": [
    "find_content()"
   ]
  }
 ],
 "metadata": {
  "kernelspec": {
   "display_name": "Python 3",
   "language": "python",
   "name": "python3"
  },
  "language_info": {
   "codemirror_mode": {
    "name": "ipython",
    "version": 3
   },
   "file_extension": ".py",
   "mimetype": "text/x-python",
   "name": "python",
   "nbconvert_exporter": "python",
   "pygments_lexer": "ipython3",
   "version": "3.8.5"
  }
 },
 "nbformat": 4,
 "nbformat_minor": 4
}
