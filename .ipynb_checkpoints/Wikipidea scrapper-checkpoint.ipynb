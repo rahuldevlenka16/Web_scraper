{
 "cells": [
  {
   "cell_type": "code",
   "execution_count": 1,
   "metadata": {},
   "outputs": [],
   "source": [
    "import requests\n",
    "from bs4 import BeautifulSoup, NavigableString"
   ]
  },
  {
   "cell_type": "code",
   "execution_count": 2,
   "metadata": {},
   "outputs": [],
   "source": [
    "url = \"https://en.wikipedia.org/wiki/Sherlock_(TV_series)\"\n",
    "r = requests.get(url)\n",
    "content = r.content\n",
    "soup = BeautifulSoup(content, \"html.parser\")"
   ]
  },
  {
   "cell_type": "code",
   "execution_count": 3,
   "metadata": {},
   "outputs": [],
   "source": [
    "def find_content():\n",
    "    id = input(\"Enter title : \")\n",
    "    if id == None:\n",
    "        return\n",
    "    print(\"=====================================================\")\n",
    "    h_id = id.replace(\" \", \"_\")\n",
    "    h_content = soup.find(id = h_id).parent\n",
    "#     h_name = h_content.name\n",
    "    for i,e in enumerate(h_content.next_siblings):\n",
    "        if isinstance(e, NavigableString):\n",
    "            continue\n",
    "        if \"h\" in e.name:\n",
    "            break\n",
    "        print(e.text)\n",
    "\n",
    "def find_titles():\n",
    "    h = input(\"Enter headind size like h2 or h3 : \")\n",
    "    print(\"------------------------------------------------------\")\n",
    "    for i in soup.find_all(h):\n",
    "        if isinstance(i, NavigableString):\n",
    "            continue\n",
    "        print(i.text)\n",
    "def show_everyting():\n",
    "    print(soup.text)\n",
    "\n",
    "def find_links():\n",
    "    anchors = soup.find_all('a')\n",
    "    for link in anchors:\n",
    "        l = link.get('href')\n",
    "        if l == None:\n",
    "            continue\n",
    "        elif \"https://\" in l:\n",
    "            print(l)"
   ]
  },
  {
   "cell_type": "code",
   "execution_count": 4,
   "metadata": {
    "scrolled": true
   },
   "outputs": [
    {
     "name": "stdout",
     "output_type": "stream",
     "text": [
      "Enter headind size like h2 or h3 : h2\n",
      "------------------------------------------------------\n",
      "Contents\n",
      "Premise\n",
      "Production\n",
      "Episodes\n",
      "Reception\n",
      "Home release and merchandise\n",
      "References\n",
      "External links\n",
      "Navigation menu\n"
     ]
    }
   ],
   "source": [
    "find_titles()"
   ]
  },
  {
   "cell_type": "code",
   "execution_count": null,
   "metadata": {},
   "outputs": [],
   "source": [
    "find_titles()"
   ]
  },
  {
   "cell_type": "code",
   "execution_count": null,
   "metadata": {},
   "outputs": [],
   "source": []
  }
 ],
 "metadata": {
  "kernelspec": {
   "display_name": "Python 3",
   "language": "python",
   "name": "python3"
  },
  "language_info": {
   "codemirror_mode": {
    "name": "ipython",
    "version": 3
   },
   "file_extension": ".py",
   "mimetype": "text/x-python",
   "name": "python",
   "nbconvert_exporter": "python",
   "pygments_lexer": "ipython3",
   "version": "3.8.5"
  }
 },
 "nbformat": 4,
 "nbformat_minor": 4
}
